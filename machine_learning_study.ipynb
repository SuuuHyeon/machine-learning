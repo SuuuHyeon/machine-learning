{
  "nbformat": 4,
  "nbformat_minor": 0,
  "metadata": {
    "colab": {
      "provenance": [],
      "authorship_tag": "ABX9TyNrEM2/VrjZr6LnRo2pGblL",
      "include_colab_link": true
    },
    "kernelspec": {
      "name": "python3",
      "display_name": "Python 3"
    },
    "language_info": {
      "name": "python"
    }
  },
  "cells": [
    {
      "cell_type": "markdown",
      "metadata": {
        "id": "view-in-github",
        "colab_type": "text"
      },
      "source": [
        "<a href=\"https://colab.research.google.com/github/SuuuHyeon/machine-learning/blob/main/machine_learning_study.ipynb\" target=\"_parent\"><img src=\"https://colab.research.google.com/assets/colab-badge.svg\" alt=\"Open In Colab\"/></a>"
      ]
    },
    {
      "cell_type": "markdown",
      "source": [
        "# 머신러닝 기초 정리 1 - NumPy"
      ],
      "metadata": {
        "id": "0EBX-FVMqLAt"
      }
    },
    {
      "cell_type": "markdown",
      "source": [
        "## NumPy란?\n",
        "  - NumPy는 파이썬에서 수치 데이터를 처리하기 위한 핵심라이브러리  \n",
        "  - 머신러닝의 기초가 되는 벡터/행렬 연산을 빠르게 수행할 수 있도록 도와줌  \n",
        "  - 머신러닝 모델 학습에 필요한 데이터 전처리, 수학적 연산, 통계 분석 등을 수행할 때 가장 기본적으로 사용됨"
      ],
      "metadata": {
        "id": "19BnFI-NqVs1"
      }
    },
    {
      "cell_type": "code",
      "source": [
        "# numpy 설치는 pip install numpy 실행\n",
        "\n",
        "# numpy import하기\n",
        "import numpy as np"
      ],
      "metadata": {
        "id": "9cFmZ9t0DTOC"
      },
      "execution_count": 6,
      "outputs": []
    },
    {
      "cell_type": "markdown",
      "source": [
        "## 1. 배열 생성 (Array Creation)\n",
        "- 기본 데이터 구조: ndarray  \n",
        "- 리스트로부터 배열 생성  \n",
        "- 다차원 배열도 생성 가능\n"
      ],
      "metadata": {
        "id": "QnlHCXb1sdOn"
      }
    },
    {
      "cell_type": "code",
      "source": [
        "import numpy as np\n",
        "\n",
        "array1 = np.array([1,2,3])\n",
        "print('array1 type :', type(array1))\n",
        "print('array1 array 형태:', array1.shape)\n",
        "\n",
        "array2 = np.array ([[1,2,3], [2,3,4]])\n",
        "print('array2 type :', type(array2))\n",
        "print('array2 array 형태 :', array2. shape)\n",
        "\n",
        "array3 = np.array ([[1,2,3]])\n",
        "print('array3 array 형태 : ', type (array3))\n",
        "print('array3 array 형태 : ', array3. shape)\n",
        "\n",
        "print(array1.ndim, array2.ndim, array3.ndim)\n",
        "print('array1 : {:}차원, array2 : {:1} 차원 , array3 : {:2} 차원'\n",
        "      .format(array1.ndim, array2.ndim, array3.ndim))"
      ],
      "metadata": {
        "colab": {
          "base_uri": "https://localhost:8080/"
        },
        "id": "T06p0yz4r5Ym",
        "outputId": "94cf831f-8817-4bb2-cdc9-cec1cd45d09a"
      },
      "execution_count": 7,
      "outputs": [
        {
          "output_type": "stream",
          "name": "stdout",
          "text": [
            "array1 type : <class 'numpy.ndarray'>\n",
            "array1 array 형태: (3,)\n",
            "array2 type : <class 'numpy.ndarray'>\n",
            "array2 array 형태 : (2, 3)\n",
            "array3 array 형태 :  <class 'numpy.ndarray'>\n",
            "array3 array 형태 :  (1, 3)\n",
            "1 2 2\n",
            "array1 : 1차원, array2 : 2 차원 , array3 :  2 차원\n"
          ]
        }
      ]
    },
    {
      "cell_type": "markdown",
      "source": [
        "## 2. 배열 속성 (Array Properties)\n",
        "- 배열 구조, 타입, 크기 등 확인 가능\n"
      ],
      "metadata": {
        "id": "_VbWXgNTyVLW"
      }
    },
    {
      "cell_type": "code",
      "source": [
        "arr = np.array([[1, 2, 3], [4, 5, 6]])\n",
        "\n",
        "print(arr.shape)   # 배열 모양: (2, 3)\n",
        "print(arr.ndim)    # 차원 수: 2\n",
        "print(arr.dtype)   # 자료형: int64\n",
        "print(arr.size)    # 총 원소 개수: 6\n",
        "print(type(arr))   # numpy.ndarray 객체 타입"
      ],
      "metadata": {
        "colab": {
          "base_uri": "https://localhost:8080/"
        },
        "id": "CMQPkO9ByVkN",
        "outputId": "d8b1c0b9-683e-4330-e302-98da1e3df461"
      },
      "execution_count": 8,
      "outputs": [
        {
          "output_type": "stream",
          "name": "stdout",
          "text": [
            "(2, 3)\n",
            "2\n",
            "int64\n",
            "6\n",
            "<class 'numpy.ndarray'>\n"
          ]
        }
      ]
    },
    {
      "cell_type": "markdown",
      "source": [
        "## 3. 배열 생성 함수\n",
        "- 자주 쓰이는 배열을 쉽게 생성  \n",
        "- 0, 1, 연속값 등 자동 생성\n"
      ],
      "metadata": {
        "id": "O4nnwJ0-yYVC"
      }
    },
    {
      "cell_type": "code",
      "source": [
        "print(np.zeros((2, 3)), '\\n')        # 2행 3열, 모든 원소가 0\n",
        "print(np.ones((2, 3)), '\\n')         # 2행 3열, 모든 원소가 1\n",
        "print(np.arange(0, 10, 2), '\\n')     # 0부터 10까지 2 간격으로 생성\n",
        "print(np.linspace(0, 1, 5), '\\n')    # 0부터 1까지 5개 구간 등분\n",
        "print(np.eye(3))                     # 3x3 단위 행렬"
      ],
      "metadata": {
        "colab": {
          "base_uri": "https://localhost:8080/"
        },
        "id": "wJ-eEmveyYnY",
        "outputId": "f74d30e4-9292-4c73-a570-66b9e182f83a"
      },
      "execution_count": 13,
      "outputs": [
        {
          "output_type": "stream",
          "name": "stdout",
          "text": [
            "[[0. 0. 0.]\n",
            " [0. 0. 0.]] \n",
            "\n",
            "[[1. 1. 1.]\n",
            " [1. 1. 1.]] \n",
            "\n",
            "[0 2 4 6 8] \n",
            "\n",
            "[0.   0.25 0.5  0.75 1.  ] \n",
            "\n",
            "[[1. 0. 0.]\n",
            " [0. 1. 0.]\n",
            " [0. 0. 1.]]\n"
          ]
        }
      ]
    },
    {
      "cell_type": "markdown",
      "source": [
        "## 4. 인덱싱 & 슬라이싱\n",
        "- 배열 요소 선택  \n",
        "- 행/열 접근 가능\n"
      ],
      "metadata": {
        "id": "976bQWUFyY_E"
      }
    },
    {
      "cell_type": "code",
      "source": [
        "a = np.array([[10, 20, 30], [40, 50, 60]])\n",
        "\n",
        "print(a[0, 1])   # 0행 1열: 20\n",
        "print(a[:, 1])   # 모든 행, 1열: [20 50]\n",
        "print(a[1, :])   # 1행 전체: [40 50 60]"
      ],
      "metadata": {
        "colab": {
          "base_uri": "https://localhost:8080/"
        },
        "id": "TJ6GTPIFyZX2",
        "outputId": "11f58ed9-1e44-47dd-ae53-db76b4164cc4"
      },
      "execution_count": 14,
      "outputs": [
        {
          "output_type": "stream",
          "name": "stdout",
          "text": [
            "20\n",
            "[20 50]\n",
            "[40 50 60]\n"
          ]
        }
      ]
    },
    {
      "cell_type": "markdown",
      "source": [
        "## 5. 배열 연산\n",
        "- 벡터 연산, 스칼라 연산 지원  \n",
        "- 조건 연산도 가능\n"
      ],
      "metadata": {
        "id": "ZBC6DFAIyZnL"
      }
    },
    {
      "cell_type": "code",
      "source": [
        "a = np.array([1, 2, 3])\n",
        "b = np.array([10, 20, 30])\n",
        "\n",
        "print(a + b)     # [11 22 33] - 요소별 덧셈\n",
        "print(a * 2)     # [2 4 6] - 스칼라 곱\n",
        "print(a > 1)     # [False True True] - 조건 연산 결과"
      ],
      "metadata": {
        "colab": {
          "base_uri": "https://localhost:8080/"
        },
        "id": "3dU_aRlEr8nG",
        "outputId": "e7c82168-288b-4793-d27d-6d1ec858b192"
      },
      "execution_count": 15,
      "outputs": [
        {
          "output_type": "stream",
          "name": "stdout",
          "text": [
            "[11 22 33]\n",
            "[2 4 6]\n",
            "[False  True  True]\n"
          ]
        }
      ]
    },
    {
      "cell_type": "markdown",
      "source": [
        "## 6. 브로드캐스팅\n",
        "- 모양이 다른 배열끼리 연산 가능  \n",
        "- 자동 확장 방식 적용\n"
      ],
      "metadata": {
        "id": "OCMgQduSytWG"
      }
    },
    {
      "cell_type": "code",
      "source": [
        "a = np.array([[1], [2], [3]])      # (3,1) 배열\n",
        "b = np.array([10, 20, 30])         # (3,) 배열\n",
        "\n",
        "print(a + b)  # (3,3)로 확장되어 연산됨"
      ],
      "metadata": {
        "colab": {
          "base_uri": "https://localhost:8080/"
        },
        "id": "-HWZritqytu-",
        "outputId": "b58fe3bc-7988-4d4e-bbc4-34b4343393b9"
      },
      "execution_count": 16,
      "outputs": [
        {
          "output_type": "stream",
          "name": "stdout",
          "text": [
            "[[11 21 31]\n",
            " [12 22 32]\n",
            " [13 23 33]]\n"
          ]
        }
      ]
    },
    {
      "cell_type": "markdown",
      "source": [
        "## 7. 배열 형태 변경 & 전치\n",
        "- reshape: 배열 구조 변경  \n",
        "- 전치 (행 ↔ 열)"
      ],
      "metadata": {
        "id": "FBgtomkgy2h-"
      }
    },
    {
      "cell_type": "code",
      "source": [
        "a = np.arange(12)         # 0~11까지 1차원 배열\n",
        "b = a.reshape((3, 4))     # 3행 4열 배열로 변경\n",
        "c = np.transpose(b)       # 전치\n",
        "\n",
        "print('a\\n', a)\n",
        "print('b\\n', b)\n",
        "print('c\\n', c)"
      ],
      "metadata": {
        "colab": {
          "base_uri": "https://localhost:8080/"
        },
        "id": "8J6Zy3fWy0Zz",
        "outputId": "58df06a4-d4de-4901-87d9-27e85bca402f"
      },
      "execution_count": 17,
      "outputs": [
        {
          "output_type": "stream",
          "name": "stdout",
          "text": [
            "a\n",
            " [ 0  1  2  3  4  5  6  7  8  9 10 11]\n",
            "b\n",
            " [[ 0  1  2  3]\n",
            " [ 4  5  6  7]\n",
            " [ 8  9 10 11]]\n",
            "c\n",
            " [[ 0  4  8]\n",
            " [ 1  5  9]\n",
            " [ 2  6 10]\n",
            " [ 3  7 11]]\n"
          ]
        }
      ]
    },
    {
      "cell_type": "markdown",
      "source": [
        "## 8. 통계 함수\n",
        "- 합, 평균, 표준편차 등 기본 통계 지원"
      ],
      "metadata": {
        "id": "fvTWOBfty8H8"
      }
    },
    {
      "cell_type": "code",
      "source": [
        "data = np.array([1, 2, 3, 4, 5])\n",
        "\n",
        "print(np.sum(data))    # 합계: 15\n",
        "print(np.mean(data))   # 평균: 3.0\n",
        "print(np.std(data))    # 표준편차: 1.414...\n",
        "print(np.max(data))    # 최댓값: 5\n",
        "print(np.min(data))    # 최솟값: 1"
      ],
      "metadata": {
        "colab": {
          "base_uri": "https://localhost:8080/"
        },
        "id": "2JsXrvrdy9DK",
        "outputId": "eabaaba5-86fa-4df0-ef01-b4c9c77fdb7d"
      },
      "execution_count": 18,
      "outputs": [
        {
          "output_type": "stream",
          "name": "stdout",
          "text": [
            "15\n",
            "3.0\n",
            "1.4142135623730951\n",
            "5\n",
            "1\n"
          ]
        }
      ]
    }
  ]
}